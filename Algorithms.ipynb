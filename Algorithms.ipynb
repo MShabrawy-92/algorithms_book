{
 "cells": [
  {
   "cell_type": "code",
   "execution_count": 1,
   "metadata": {},
   "outputs": [
    {
     "name": "stdout",
     "output_type": "stream",
     "text": [
      "4\n"
     ]
    }
   ],
   "source": [
    "#binary search algorithm\n",
    "def binary_search(list,item):\n",
    "    low = 0\n",
    "    high = len(my_list)-1\n",
    "    while low<= high:\n",
    "        mid = int((low+high)/2)\n",
    "        guess = list[mid]\n",
    "        if guess == item:\n",
    "            return mid\n",
    "        elif guess > item:\n",
    "            high=mid -1\n",
    "        else :\n",
    "            low = mid +1\n",
    "        \n",
    "\n",
    "my_list = [1,3,5,7,9]\n",
    "print(binary_search(my_list,9))\n",
    "    "
   ]
  },
  {
   "cell_type": "code",
   "execution_count": 22,
   "metadata": {},
   "outputs": [
    {
     "name": "stdout",
     "output_type": "stream",
     "text": [
      "[1, 2, 3, 4, 5, 6, 7, 8, 9, 10, 11, 12, 13, 14, 15, 16, 17, 18, 19, 20, 21, 22, 23, 24, 25, 26, 27, 28, 29, 30, 31, 32, 33, 34, 35, 36, 37, 38, 39, 40, 41, 42, 43, 44, 45, 46, 47, 48, 49, 50, 51, 52, 53, 54, 55, 56, 57, 58, 59, 60, 61, 62, 63, 64, 65, 66, 67, 68, 69, 70, 71, 72, 73, 74, 75, 76, 77, 78, 79, 80, 81, 82, 83, 84, 85, 86, 87, 88, 89, 90, 91, 92, 93, 94, 95, 96, 97, 98, 99, 100]\n"
     ]
    }
   ],
   "source": [
    "#selection sort algorithm\n",
    "def findSmallest(arr):\n",
    "    smallest = arr[0]\n",
    "    smallest_index = 0\n",
    "    for i in range(1,len(arr)):\n",
    "        if arr[i]<smallest : \n",
    "            smallest= arr[i]\n",
    "            smallest_index = i\n",
    "            \n",
    "    return smallest_index\n",
    "\n",
    "def selectionSort(arr):\n",
    "    newArr=[]\n",
    "    for i in range (len(arr)):\n",
    "        smallest=findSmallest(arr)\n",
    "        newArr.append(arr.pop(smallest))\n",
    "        \n",
    "    return newArr\n",
    "\n"
   ]
  },
  {
   "cell_type": "code",
   "execution_count": 15,
   "metadata": {},
   "outputs": [
    {
     "name": "stdout",
     "output_type": "stream",
     "text": [
      "2\n",
      "50\n",
      "10\n"
     ]
    },
    {
     "data": {
      "text/plain": [
       "90"
      ]
     },
     "execution_count": 15,
     "metadata": {},
     "output_type": "execute_result"
    }
   ],
   "source": [
    "#Choosing max number of a list\n",
    "def max(list):\n",
    "    if len(list)==2 :\n",
    "        return list[0] if list[0] > list[1] else list[1]\n",
    "    sub_max = max(list[1:])\n",
    "    print(list[0])\n",
    "    return list[0] if list [0] > sub_max else sub_max\n",
    "test_list = [10,50,2,90,30]\n",
    "max(test_list)"
   ]
  },
  {
   "cell_type": "code",
   "execution_count": 29,
   "metadata": {},
   "outputs": [
    {
     "name": "stdout",
     "output_type": "stream",
     "text": [
      "[8, 9, 10, 12, 50, 215, 666, 1548, 1549, 168484, 6354987]\n"
     ]
    }
   ],
   "source": [
    "#quick sort ### Very importatnt ###\n",
    "def quicksort(array):\n",
    "    if len(array) <2 :\n",
    "        return array\n",
    "    else :\n",
    "        pivot = array[0]\n",
    "        less = [i for i in array[1:] if i < pivot]\n",
    "        greater = [i for i  in array[1:] if i> pivot]\n",
    "        \n",
    "    return quicksort(less)+[pivot]+quicksort(greater)\n",
    "\n",
    "list_qs = [10,50,12,8,9,666,1548,1549,6354987,168484,215]\n",
    "\n",
    "\n",
    "print(quicksort(list_qs))"
   ]
  },
  {
   "cell_type": "code",
   "execution_count": 18,
   "metadata": {},
   "outputs": [
    {
     "name": "stdout",
     "output_type": "stream",
     "text": [
      "thom is a mango seller!!\n"
     ]
    },
    {
     "data": {
      "text/plain": [
       "True"
      ]
     },
     "execution_count": 18,
     "metadata": {},
     "output_type": "execute_result"
    }
   ],
   "source": [
    "#breadth first search\n",
    "#searches for a way between two points and finds the shortest\n",
    "\n",
    "from collections import deque\n",
    "graph={}\n",
    "graph[\"you\"]=[\"alice\",\"bob\",\"claire\"]\n",
    "graph[\"bob\"]=[\"anju\",\"peggy\"]\n",
    "graph[\"alice\"]=[\"peggy\"]\n",
    "graph[\"claire\"]=[\"thom\",\"jonny\"]\n",
    "graph[\"anju\"]=[]\n",
    "graph[\"peggy\"]=[]\n",
    "graph[\"thom\"]=[]\n",
    "graph[\"jonny\"]=[]\n",
    "\n",
    "def persn_is_seller(name):\n",
    "    return name[-1]=='m'\n",
    "\n",
    "def search(name):\n",
    "    search_queue = deque()#creates  a queue\n",
    "    search_queue+=graph[name] #appends the values of the name we search for to the queue\n",
    "    searched =[] #list of searched names\n",
    "    while search_queue:\n",
    "        person =search_queue.popleft() #pops the first item on the left\n",
    "        if not person in searched: #checks if this peson is not in the searched list\n",
    "            if persn_is_seller(person):#checks our condition\n",
    "                print (person + \" is a mango seller!!\") #prints if successful\n",
    "                return True \n",
    "            else :\n",
    "                search_queue+=graph[person] #add the value if that persn from the graph \n",
    "                searched.append(person) #add person's name to the searched list..............................0\n",
    "    return False\n",
    "\n",
    "\n",
    "search('you')\n",
    "\n"
   ]
  },
  {
   "cell_type": "code",
   "execution_count": null,
   "metadata": {},
   "outputs": [],
   "source": []
  }
 ],
 "metadata": {
  "kernelspec": {
   "display_name": "Python 3",
   "language": "python",
   "name": "python3"
  },
  "language_info": {
   "codemirror_mode": {
    "name": "ipython",
    "version": 3
   },
   "file_extension": ".py",
   "mimetype": "text/x-python",
   "name": "python",
   "nbconvert_exporter": "python",
   "pygments_lexer": "ipython3",
   "version": "3.8.3"
  }
 },
 "nbformat": 4,
 "nbformat_minor": 4
}
